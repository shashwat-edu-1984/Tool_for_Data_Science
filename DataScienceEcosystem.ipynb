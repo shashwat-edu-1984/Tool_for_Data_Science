{
 "cells": [
  {
   "cell_type": "markdown",
   "id": "c18b2c99-1c85-4d25-8543-f0deb03a92c9",
   "metadata": {},
   "source": [
    "# Data Science Tools and Ecosystem"
   ]
  },
  {
   "cell_type": "markdown",
   "id": "22b2dd9d-e724-47da-89e1-a5a364826aeb",
   "metadata": {},
   "source": [
    "**Objectives:** Topics covered in the discussion below are \n",
    "* Data Science Languages\n",
    "* Common Libraries\n",
    "* Data Science Tools \n",
    "* Common Arithmetic Code Samples"
   ]
  },
  {
   "cell_type": "markdown",
   "id": "93db9ea1-7f06-462a-986c-7fbcf9598c7e",
   "metadata": {},
   "source": [
    "## In this notebook, Data Science Tools and Ecosystem are summarized."
   ]
  },
  {
   "cell_type": "markdown",
   "id": "62b07c0c-f9b5-433d-a4ef-c4653758a77b",
   "metadata": {},
   "source": [
    "Some of the popular languages that Data Scientists use are:\n",
    "\n",
    "1. Python\n",
    "2. R\n",
    "3. Java\n",
    "4. C++"
   ]
  },
  {
   "cell_type": "markdown",
   "id": "83d77514-87c1-4977-8c30-7ea1a15638dd",
   "metadata": {},
   "source": [
    "Some of the commonly used libraries used by Data Scientists include:\n",
    "1. Pandas\n",
    "2. Keras\n",
    "3. Scikit-Learn\n",
    "4. PyTorch"
   ]
  },
  {
   "cell_type": "markdown",
   "id": "a25cea55-d3ad-4745-ae57-fe5a5143dc74",
   "metadata": {},
   "source": [
    "<table style = 'float : left;'>\n",
    "    <tr><th style = 'text-align : center;'>Data Science Tools\n",
    "        <tr><td style = 'text-align : center;'> Apache Spark\n",
    "        <tr><td style = 'text-align : center;'> Tensor Flow\n",
    "        <tr><td style = 'text-align : center;'> RStudio"
   ]
  },
  {
   "cell_type": "markdown",
   "id": "322885d1-36d7-4a88-8ed5-b5e276b17d2a",
   "metadata": {},
   "source": [
    "|Data Science Tools|\n",
    "|-----------|\n",
    "|Apache Spark|\n",
    "|Tensor Flow|\n",
    "|RStudio|"
   ]
  },
  {
   "cell_type": "markdown",
   "id": "18788924-6442-469f-9a19-f327439f31b9",
   "metadata": {},
   "source": [
    "Below are a few examples of evaluating arithmetic expressions in Python"
   ]
  },
  {
   "cell_type": "code",
   "execution_count": 10,
   "id": "d4816a09-86d9-4ab8-a730-4982ed9473cb",
   "metadata": {
    "tags": []
   },
   "outputs": [
    {
     "data": {
      "text/plain": [
       "17"
      ]
     },
     "execution_count": 10,
     "metadata": {},
     "output_type": "execute_result"
    }
   ],
   "source": [
    "(3*4)+5 #This a simple arithmetic expression to mutiply then add integers"
   ]
  },
  {
   "cell_type": "code",
   "execution_count": 16,
   "id": "253b7372-27e3-47ce-b7b6-160632397b21",
   "metadata": {
    "tags": []
   },
   "outputs": [
    {
     "data": {
      "text/plain": [
       "'total hours in 200 min is 3 hours'"
      ]
     },
     "execution_count": 16,
     "metadata": {},
     "output_type": "execute_result"
    }
   ],
   "source": [
    "time_in_hours = 200   #This will convert 200 minutes to hours by diving by 60\n",
    "total_hours = time_in_hours//60\n",
    "\"total hours in \" + str(time_in_hours) + \" min is \" + str(total_hours) + \" hours\""
   ]
  },
  {
   "cell_type": "markdown",
   "id": "64a9279d-66f5-4285-8041-ed6dbb28bbde",
   "metadata": {},
   "source": [
    "**<h2> Authors**"
   ]
  },
  {
   "cell_type": "markdown",
   "id": "834e24e1-ef41-4565-8a12-206f67760c31",
   "metadata": {},
   "source": [
    "Shashwat\n"
   ]
  }
 ],
 "metadata": {
  "kernelspec": {
   "display_name": "Python",
   "language": "python",
   "name": "conda-env-python-py"
  },
  "language_info": {
   "codemirror_mode": {
    "name": "ipython",
    "version": 3
   },
   "file_extension": ".py",
   "mimetype": "text/x-python",
   "name": "python",
   "nbconvert_exporter": "python",
   "pygments_lexer": "ipython3",
   "version": "3.7.12"
  }
 },
 "nbformat": 4,
 "nbformat_minor": 5
}
